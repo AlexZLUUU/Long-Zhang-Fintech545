{
 "cells": [
  {
   "cell_type": "code",
   "execution_count": 358,
   "id": "3ff7de5e",
   "metadata": {},
   "outputs": [],
   "source": [
    "import pandas as pd\n",
    "import numpy as np\n",
    "import statistics as st\n",
    "import matplotlib.pyplot as plt\n",
    "from numpy.linalg import eigh\n",
    "from numpy import linalg as LA\n",
    "import time\n",
    "import timeit"
   ]
  },
  {
   "cell_type": "markdown",
   "id": "76e184d2",
   "metadata": {},
   "source": [
    "# Problem1"
   ]
  },
  {
   "cell_type": "code",
   "execution_count": 359,
   "id": "4bf3e79b",
   "metadata": {},
   "outputs": [],
   "source": [
    "df=pd.read_csv('DailyReturn.csv')"
   ]
  },
  {
   "cell_type": "code",
   "execution_count": 360,
   "id": "e5cb7ed5",
   "metadata": {},
   "outputs": [],
   "source": [
    "def populateWeights(x, w, cw, λ):\n",
    "    n = len(x)\n",
    "    tw = 0.0\n",
    "    for i in range(n):\n",
    "        x[i] = i+1\n",
    "        w[i] = (1-λ)*(λ**i)\n",
    "        tw += w[i]\n",
    "        cw[i] = tw\n",
    "    for i in range(n):\n",
    "        w[i] = w[i]/tw\n",
    "        cw[i] = cw[i]/tw\n",
    "\n",
    "def exw(cw, data):\n",
    "    stock_names = list(data.columns)\n",
    "    stock_names.pop(0)\n",
    "    \n",
    "    mat = np.empty((len(stock_names),len(stock_names)))\n",
    "    cov_mat = pd.DataFrame(mat, columns = stock_names, index = stock_names)\n",
    "    \n",
    "    \n",
    "    for i in range(len(stock_names)):\n",
    "        for j in range(len(stock_names)):\n",
    "            x_data=data.iloc[:, i+1].tolist()\n",
    "            y_data=data.iloc[:, j+1].tolist()\n",
    "            x_mean=sum(x_data)/len(x_data)\n",
    "            y_mean=sum(y_data)/len(y_data)\n",
    "            \n",
    "            s=0       \n",
    "            for m in range(len(data['SPY'].tolist())):\n",
    "                s += cw[m]*(x_data[m] - x_mean)*(y_data[m] - y_mean)\n",
    "            cov_mat.iloc[i, j]=s\n",
    "    return cov_mat\n",
    "\n"
   ]
  },
  {
   "cell_type": "code",
   "execution_count": 362,
   "id": "cb76bd1e",
   "metadata": {},
   "outputs": [],
   "source": [
    "lamda=0.97\n",
    "n=len(df['SPY'].tolist())\n",
    "x=np.empty(n)\n",
    "w=np.empty(n)\n",
    "cw=np.empty(n)\n",
    "populateWeights(x, w, cw, lamda)\n",
    "cov_mat=exw(cw, df)"
   ]
  },
  {
   "cell_type": "code",
   "execution_count": 363,
   "id": "354e2899",
   "metadata": {},
   "outputs": [
    {
     "name": "stderr",
     "output_type": "stream",
     "text": [
      "/opt/anaconda3/lib/python3.8/site-packages/matplotlib/cbook/__init__.py:1289: ComplexWarning: Casting complex values to real discards the imaginary part\n",
      "  return np.asarray(x, float)\n",
      "/opt/anaconda3/lib/python3.8/site-packages/matplotlib/cbook/__init__.py:1289: ComplexWarning: Casting complex values to real discards the imaginary part\n",
      "  return np.asarray(x, float)\n",
      "/opt/anaconda3/lib/python3.8/site-packages/matplotlib/cbook/__init__.py:1289: ComplexWarning: Casting complex values to real discards the imaginary part\n",
      "  return np.asarray(x, float)\n",
      "/opt/anaconda3/lib/python3.8/site-packages/matplotlib/cbook/__init__.py:1289: ComplexWarning: Casting complex values to real discards the imaginary part\n",
      "  return np.asarray(x, float)\n"
     ]
    },
    {
     "data": {
      "image/png": "[encoded data removed]",
      "text/plain": [
       "<Figure size 432x288 with 1 Axes>"
      ]
     },
     "metadata": {
      "needs_background": "light"
     },
     "output_type": "display_data"
    }
   ],
   "source": [
    "def simulate_pca(a, nsim, nval=None):\n",
    "    vals, vecs = np.linalg.eig(a)\n",
    "    idx = np.argsort(-vals)\n",
    "    vals = vals[idx]\n",
    "    vecs = vecs[:, idx]\n",
    "    posv = np.where(vals >= 1e-8)[0]\n",
    "    if nval is not None:\n",
    "        if nval < len(posv):\n",
    "            posv = posv[:nval]\n",
    "    vals = vals[posv]\n",
    "    vecs = vecs[:, posv]\n",
    "    cum_var = (np.cumsum(vals[:nsim]) / np.sum(vals))[-1]\n",
    "\n",
    "    return cum_var\n",
    "\n",
    "lambda_values = [0.1, 0.4, 0.7, 0.9]\n",
    "#plt.figure(figsize=(10, 6))\n",
    "for lambda_ in lambda_values:\n",
    "    n=len(df['SPY'].tolist())\n",
    "    x=np.empty(n)\n",
    "    w=np.empty(n)\n",
    "    cw=np.empty(n)\n",
    "    populateWeights(x, w, cw, lambda_)\n",
    "    cov_matrix = exw(cw, df)\n",
    "    cum_vars=[]\n",
    "    for i in range(1, 100):\n",
    "        cum_vars.append(simulate_pca(cov_matrix, i))\n",
    "    plt.plot(cum_vars, label=f\"lambda={lambda_}\")\n",
    "plt.legend()\n",
    "plt.show()"
   ]
  },
  {
   "cell_type": "markdown",
   "id": "dad1e11d",
   "metadata": {},
   "source": [
    "# Problem2"
   ]
  },
  {
   "cell_type": "code",
   "execution_count": 364,
   "id": "b561939f",
   "metadata": {},
   "outputs": [],
   "source": [
    "def chol_psd(a):\n",
    "    n = a.shape[0]\n",
    "    root = np.zeros((n, n))\n",
    "\n",
    "    for j in range(n):\n",
    "        s = 0.0\n",
    "        if j > 0:\n",
    "            s = np.dot(root[j, :j], root[j, :j])\n",
    "        temp = a[j, j] - s\n",
    "        if temp <= 0:\n",
    "            temp = 0.0\n",
    "        root[j, j] = np.sqrt(temp)\n",
    "\n",
    "        if root[j, j] == 0.0:\n",
    "            root[j, j+1:] = 0.0\n",
    "        else:\n",
    "            ir = 1.0 / root[j, j]\n",
    "            for i in range(j + 1, n):\n",
    "                s = np.dot(root[i, :j], root[j, :j])\n",
    "                root[i, j] = (a[i, j] - s) * ir\n",
    "    return root"
   ]
  },
  {
   "cell_type": "code",
   "execution_count": 365,
   "id": "960f4723",
   "metadata": {},
   "outputs": [],
   "source": [
    "def project_positive(A, W=None):\n",
    "    \"\"\"\n",
    "    Project a matrix onto the positive semi-definite cone.\n",
    "    \"\"\"\n",
    "    if W is None:\n",
    "        W = np.eye(A.shape[0])\n",
    "    d, V = LA.eigh(A)\n",
    "    d[d < 0] = 0\n",
    "    return V @ np.diag(d) @ V.T\n",
    "\n",
    "def project_unitary(A, W=None):\n",
    "    \"\"\"\n",
    "    Project a matrix onto the unitary cone.\n",
    "    \"\"\"\n",
    "    if W is None:\n",
    "        W = np.eye(A.shape[0])\n",
    "    return W @ A @ W\n",
    "\n",
    "def higham_psd(C, W=None, max_iterations=100, tol=1e-6):\n",
    "    \"\"\"\n",
    "    Find the nearest PSD correlation matrix to C using Higham's (2002) algorithm.\n",
    "    \"\"\"\n",
    "    A = C.copy()\n",
    "    S = np.zeros(A.shape)\n",
    "    delta_S = np.zeros(A.shape)\n",
    "    Y = np.zeros(A.shape)\n",
    "    for k in range(max_iterations):\n",
    "        R = A - delta_S\n",
    "        X = project_positive(R, W)\n",
    "        delta_S = X - R\n",
    "        Y = project_unitary(X, W)\n",
    "        if LA.norm(Y - A) < tol:\n",
    "            break\n",
    "        A = Y.copy()\n",
    "    return A"
   ]
  },
  {
   "cell_type": "code",
   "execution_count": 366,
   "id": "72628722",
   "metadata": {},
   "outputs": [],
   "source": [
    "def near_psd(a, epsilon=0.0):\n",
    "    n = a.shape[0]\n",
    "\n",
    "    invSD = None\n",
    "    out = a.copy()\n",
    "\n",
    "    # calculate the correlation matrix if we got a covariance\n",
    "    if np.count_nonzero(np.diag(out) == 1.0) != n:\n",
    "        invSD = np.diag(1 / np.sqrt(np.diag(out)))\n",
    "        out = np.matmul(np.matmul(invSD, out), invSD)\n",
    "\n",
    "    # SVD, update the eigen value and scale\n",
    "    vals, vecs = np.linalg.eigh(out)\n",
    "    vals = np.maximum(vals, epsilon)\n",
    "    T = np.reciprocal(np.matmul(np.square(vecs), vals))\n",
    "    T = np.diag(np.sqrt(T))\n",
    "    l = np.diag(np.sqrt(vals))\n",
    "    B = T @ vecs @ l\n",
    "    out = B @ B.T\n",
    "\n",
    "    #Add back the variance\n",
    "    if invSD is not None:\n",
    "        invSD = np.diag(1 / np.diag(invSD))\n",
    "        out = invSD @ out @ invSD\n",
    "    return out"
   ]
  },
  {
   "cell_type": "code",
   "execution_count": 368,
   "id": "eca25714",
   "metadata": {},
   "outputs": [
    {
     "data": {
      "text/plain": [
       "array([[1.    , 0.9   , 0.9   , ..., 0.9   , 0.9   , 0.9   ],\n",
       "       [0.9   , 1.    , 0.7357, ..., 0.9   , 0.9   , 0.9   ],\n",
       "       [0.9   , 0.7357, 1.    , ..., 0.9   , 0.9   , 0.9   ],\n",
       "       ...,\n",
       "       [0.9   , 0.9   , 0.9   , ..., 1.    , 0.9   , 0.9   ],\n",
       "       [0.9   , 0.9   , 0.9   , ..., 0.9   , 1.    , 0.9   ],\n",
       "       [0.9   , 0.9   , 0.9   , ..., 0.9   , 0.9   , 1.    ]])"
      ]
     },
     "execution_count": 368,
     "metadata": {},
     "output_type": "execute_result"
    }
   ],
   "source": [
    "n=500\n",
    "sigma=np.full((n,n), 0.9)\n",
    "np.fill_diagonal(sigma, 1.0)\n",
    "\n",
    "sigma[1,2]=0.7357\n",
    "sigma[2,1]=0.7357\n",
    "sigma"
   ]
  },
  {
   "cell_type": "code",
   "execution_count": 369,
   "id": "fdba1c4a",
   "metadata": {},
   "outputs": [],
   "source": [
    "chol=chol_psd(sigma)\n",
    "higham=higham_psd(sigma)\n",
    "near=near_psd(sigma)"
   ]
  },
  {
   "cell_type": "code",
   "execution_count": 370,
   "id": "97b54373",
   "metadata": {},
   "outputs": [
    {
     "name": "stdout",
     "output_type": "stream",
     "text": [
      "False\n",
      "True\n",
      "True\n"
     ]
    }
   ],
   "source": [
    "def is_pos_def(x):\n",
    "    return np.all(np.linalg.eigvals(x) > -1e-8)\n",
    "print(is_pos_def(sigma))\n",
    "print(is_pos_def(higham))\n",
    "print(is_pos_def(near))"
   ]
  },
  {
   "cell_type": "code",
   "execution_count": 371,
   "id": "810b12e3",
   "metadata": {},
   "outputs": [
    {
     "name": "stdout",
     "output_type": "stream",
     "text": [
      "0.06364303890468953\n",
      "0.6275226557619892\n"
     ]
    }
   ],
   "source": [
    "frobenius_higham = np.linalg.norm(sigma - higham, 'fro')\n",
    "frobenius_near=np.linalg.norm(sigma - near, 'fro')\n",
    "print(frobenius_higham)\n",
    "print(frobenius_near)"
   ]
  },
  {
   "cell_type": "code",
   "execution_count": 372,
   "id": "d836d60e",
   "metadata": {},
   "outputs": [
    {
     "data": {
      "image/png": "[encoded data removed]",
      "text/plain": [
       "<Figure size 432x288 with 1 Axes>"
      ]
     },
     "metadata": {
      "needs_background": "light"
     },
     "output_type": "display_data"
    }
   ],
   "source": [
    "near_time=[]\n",
    "high_time=[]\n",
    "N=np.arange(20, 501, 50)\n",
    "\n",
    "for n in N:\n",
    "    sigma1=sigma[:n, :n]\n",
    "    \n",
    "    start = time.time()\n",
    "    near_psd(sigma1) # This is the task which I have done\n",
    "    end = time.time()\n",
    "    near_time.append((end - start))\n",
    "\n",
    "    start = time.time()\n",
    "    higham_psd(sigma1) # This is the task which I have done\n",
    "    end = time.time()\n",
    "    high_time.append((end - start))\n",
    "#print(near_time)\n",
    "#print(high_time)\n",
    "plt.plot(N, near_time, label=\"near\")\n",
    "plt.plot(N, high_time, label=\"higham\")\n",
    "plt.legend()\n",
    "plt.show()"
   ]
  },
  {
   "cell_type": "markdown",
   "id": "2ef3e02f",
   "metadata": {},
   "source": [
    "# Problem3"
   ]
  },
  {
   "cell_type": "code",
   "execution_count": 373,
   "id": "71c24dc3",
   "metadata": {},
   "outputs": [],
   "source": [
    "df=pd.read_csv('DailyReturn.csv')"
   ]
  },
  {
   "cell_type": "code",
   "execution_count": 374,
   "id": "c6693b70",
   "metadata": {},
   "outputs": [],
   "source": [
    "def simulate_multivariate_normal(mean, covariance, num_samples, use_pca=False, explained_variance=None):\n",
    "    if use_pca:\n",
    "        if explained_variance is None:\n",
    "            explained_variance = 100\n",
    "        elif not (0 <= explained_variance <= 100):\n",
    "            raise ValueError(\"Percentage of explained variance must be between 0 and 100.\")\n",
    "            \n",
    "        eigenvalues, eigenvectors = np.linalg.eig(covariance)\n",
    "        explained_variance_ratio = eigenvalues / eigenvalues.sum()\n",
    "        explained_variance_ratio = explained_variance_ratio.cumsum()\n",
    "        num_components = np.argmax(explained_variance_ratio >= explained_variance/100) + 1\n",
    "        eigenvectors = eigenvectors[:, :num_components]\n",
    "        covariance = eigenvectors.dot(np.diag(eigenvalues[:num_components]).dot(eigenvectors.T))\n",
    "        \n",
    "    lower_triangular_matrix = chol_psd(covariance)\n",
    "    normal_samples = np.random.normal(size=(mean.shape[0], num_samples))\n",
    "    samples = mean + lower_triangular_matrix.dot(normal_samples)\n",
    "    \n",
    "    return samples.T"
   ]
  },
  {
   "cell_type": "code",
   "execution_count": 377,
   "id": "b19d23c9",
   "metadata": {},
   "outputs": [],
   "source": [
    "correlation = np.corrcoef(df.drop('Unnamed: 0', axis=1), rowvar=False)\n",
    "variance = np.var(df.drop('Unnamed: 0', axis=1), axis=0)"
   ]
  },
  {
   "cell_type": "code",
   "execution_count": 378,
   "id": "16ef2fd6",
   "metadata": {},
   "outputs": [],
   "source": [
    "n=len(df['SPY'].tolist())\n",
    "x=np.empty(n)\n",
    "w=np.empty(n)\n",
    "cw=np.empty(n)\n",
    "populateWeights(x, w, cw, lamda)\n",
    "cov_mat=exw(cw, df)\n",
    "ew_correlation=cov_mat.corr().values\n",
    "ew_variance=cov_mat.var().values"
   ]
  },
  {
   "cell_type": "code",
   "execution_count": 379,
   "id": "199a0f54",
   "metadata": {},
   "outputs": [],
   "source": [
    "# 1\n",
    "#pearson_covariance = np.diag(variance).dot(correlation)\n",
    "a=df.drop('Unnamed: 0', axis=1)\n",
    "pearson_covariance = np.cov(a, rowvar=False)"
   ]
  },
  {
   "cell_type": "code",
   "execution_count": 380,
   "id": "0afa7bf4",
   "metadata": {},
   "outputs": [],
   "source": [
    "# 2\n",
    "ew_covariance = np.diag(ew_variance).dot(ew_correlation)"
   ]
  },
  {
   "cell_type": "code",
   "execution_count": 381,
   "id": "debbf14c",
   "metadata": {},
   "outputs": [],
   "source": [
    "# 3\n",
    "lamda=0.97\n",
    "n=len(df['SPY'].tolist())\n",
    "x=np.empty(n)\n",
    "w=np.empty(n)\n",
    "cw=np.empty(n)\n",
    "populateWeights(x, w, cw, lamda)\n",
    "cov_mat=np.array(exw(cw, df))"
   ]
  },
  {
   "cell_type": "code",
   "execution_count": 382,
   "id": "44cb6e42",
   "metadata": {},
   "outputs": [],
   "source": [
    "# 4\n",
    "def four(df, lambda_=0.97):\n",
    "    df1=df.drop('Unnamed: 0', axis=1)\n",
    "    cov = cov_mat  \n",
    "    asset_std = np.diag(np.reciprocal(np.sqrt(np.diag(cov))))\n",
    "    corr = asset_std @ cov @ asset_std.T\n",
    "    var = np.var(df1)\n",
    "    std_dev = np.sqrt(var)\n",
    "    cov = np.outer(std_dev, std_dev) * corr\n",
    "    return cov\n",
    "\n",
    "ew_corr_p_var = four(df)"
   ]
  },
  {
   "cell_type": "code",
   "execution_count": 383,
   "id": "5085bbb5",
   "metadata": {},
   "outputs": [],
   "source": [
    "mean=np.zeros((101, 1))\n",
    "\n",
    "def run_time_4(cov):\n",
    "    v=[100, 75, 50]\n",
    "    t=[]\n",
    "    fb=[]\n",
    "    \n",
    "    start_time = time.time()\n",
    "    samples = simulate_multivariate_normal(mean, cov, 25000, False, None)\n",
    "    time_used = time.time() - start_time\n",
    "    t.append(time_used)\n",
    "    simulated_covariance = np.cov(samples, rowvar=False)\n",
    "    fb.append(np.linalg.norm(simulated_covariance - cov, 'fro'))\n",
    "    \n",
    "    for n in v:\n",
    "        start_time = time.time()\n",
    "        samples = simulate_multivariate_normal(mean, cov, 25000, True, n)\n",
    "        time_used = time.time() - start_time\n",
    "        t.append(time_used)\n",
    "        simulated_covariance = np.cov(samples, rowvar=False)\n",
    "        fb.append(np.linalg.norm(simulated_covariance - cov, 'fro'))\n",
    "    return t,fb"
   ]
  },
  {
   "cell_type": "code",
   "execution_count": 384,
   "id": "f542d6c1",
   "metadata": {},
   "outputs": [
    {
     "name": "stderr",
     "output_type": "stream",
     "text": [
      "<ipython-input-364-9f5319455bcc>:12: ComplexWarning: Casting complex values to real discards the imaginary part\n",
      "  root[j, j] = np.sqrt(temp)\n",
      "<ipython-input-364-9f5319455bcc>:20: ComplexWarning: Casting complex values to real discards the imaginary part\n",
      "  root[i, j] = (a[i, j] - s) * ir\n"
     ]
    },
    {
     "name": "stdout",
     "output_type": "stream",
     "text": [
      "Direct time: 0.14380192756652832 Frobenius Norm: 0.000253999441525778\n",
      "PCA 1.0: 0.09244012832641602 Frobenius Norm: 0.006449095896888769\n",
      "PCA 0.75: 0.09148216247558594 Frobenius Norm: 0.0016457901826718894\n",
      "PCA 0.5: 0.08663797378540039 Frobenius Norm: 0.0033396542741153455\n"
     ]
    }
   ],
   "source": [
    "t,fb=run_time_4(pearson_covariance)\n",
    "print('Direct time: {} Frobenius Norm: {}'.format(t[0], fb[0]))\n",
    "print('PCA 1.0: {} Frobenius Norm: {}'.format(t[1], fb[1]))\n",
    "print('PCA 0.75: {} Frobenius Norm: {}'.format(t[2], fb[2]))\n",
    "print('PCA 0.5: {} Frobenius Norm: {}'.format(t[3], fb[3]))\n"
   ]
  },
  {
   "cell_type": "code",
   "execution_count": 385,
   "id": "455d3838",
   "metadata": {},
   "outputs": [
    {
     "name": "stderr",
     "output_type": "stream",
     "text": [
      "<ipython-input-364-9f5319455bcc>:12: ComplexWarning: Casting complex values to real discards the imaginary part\n",
      "  root[j, j] = np.sqrt(temp)\n",
      "<ipython-input-364-9f5319455bcc>:20: ComplexWarning: Casting complex values to real discards the imaginary part\n",
      "  root[i, j] = (a[i, j] - s) * ir\n"
     ]
    },
    {
     "name": "stdout",
     "output_type": "stream",
     "text": [
      "Direct time: 0.1178741455078125 Frobenius Norm: 0.8674261065085048\n",
      "PCA 1.0: 0.10222578048706055 Frobenius Norm: 0.00104294765581314\n",
      "PCA 0.75: 0.0933692455291748 Frobenius Norm: 0.0010315530276428539\n",
      "PCA 0.5: 0.09413003921508789 Frobenius Norm: 0.0010882147479793416\n"
     ]
    }
   ],
   "source": [
    "t,fb=run_time_4(ew_covariance)\n",
    "print('Direct time: {} Frobenius Norm: {}'.format(t[0], fb[0]))\n",
    "print('PCA 1.0: {} Frobenius Norm: {}'.format(t[1], fb[1]))\n",
    "print('PCA 0.75: {} Frobenius Norm: {}'.format(t[2], fb[2]))\n",
    "print('PCA 0.5: {} Frobenius Norm: {}'.format(t[3], fb[3]))"
   ]
  },
  {
   "cell_type": "code",
   "execution_count": 386,
   "id": "33201ccd",
   "metadata": {},
   "outputs": [
    {
     "name": "stderr",
     "output_type": "stream",
     "text": [
      "<ipython-input-364-9f5319455bcc>:12: ComplexWarning: Casting complex values to real discards the imaginary part\n",
      "  root[j, j] = np.sqrt(temp)\n",
      "<ipython-input-364-9f5319455bcc>:20: ComplexWarning: Casting complex values to real discards the imaginary part\n",
      "  root[i, j] = (a[i, j] - s) * ir\n"
     ]
    },
    {
     "name": "stdout",
     "output_type": "stream",
     "text": [
      "Direct time: 0.1218869686126709 Frobenius Norm: 0.008748666125820866\n",
      "PCA 1.0: 0.09900188446044922 Frobenius Norm: 0.00731800046011233\n",
      "PCA 0.75: 0.08974790573120117 Frobenius Norm: 0.06764534004270853\n",
      "PCA 0.5: 0.08454489707946777 Frobenius Norm: 0.138062725129939\n"
     ]
    }
   ],
   "source": [
    "t,fb=run_time_4(cov_mat)\n",
    "print('Direct time: {} Frobenius Norm: {}'.format(t[0], fb[0]))\n",
    "print('PCA 1.0: {} Frobenius Norm: {}'.format(t[1], fb[1]))\n",
    "print('PCA 0.75: {} Frobenius Norm: {}'.format(t[2], fb[2]))\n",
    "print('PCA 0.5: {} Frobenius Norm: {}'.format(t[3], fb[3]))"
   ]
  },
  {
   "cell_type": "code",
   "execution_count": 387,
   "id": "43333ddd",
   "metadata": {},
   "outputs": [
    {
     "name": "stderr",
     "output_type": "stream",
     "text": [
      "<ipython-input-364-9f5319455bcc>:12: ComplexWarning: Casting complex values to real discards the imaginary part\n",
      "  root[j, j] = np.sqrt(temp)\n",
      "<ipython-input-364-9f5319455bcc>:20: ComplexWarning: Casting complex values to real discards the imaginary part\n",
      "  root[i, j] = (a[i, j] - s) * ir\n"
     ]
    },
    {
     "name": "stdout",
     "output_type": "stream",
     "text": [
      "Direct time: 0.12064003944396973 Frobenius Norm: 0.00019022981826616932\n",
      "PCA 1.0: 0.09585976600646973 Frobenius Norm: 0.00020651625684188786\n",
      "PCA 0.75: 0.09497499465942383 Frobenius Norm: 0.0016176736904649884\n",
      "PCA 0.5: 0.09337615966796875 Frobenius Norm: 0.0034650256727319726\n"
     ]
    }
   ],
   "source": [
    "t,fb=run_time_4(ew_corr_p_var)\n",
    "print('Direct time: {} Frobenius Norm: {}'.format(t[0], fb[0]))\n",
    "print('PCA 1.0: {} Frobenius Norm: {}'.format(t[1], fb[1]))\n",
    "print('PCA 0.75: {} Frobenius Norm: {}'.format(t[2], fb[2]))\n",
    "print('PCA 0.5: {} Frobenius Norm: {}'.format(t[3], fb[3]))"
   ]
  },
  {
   "cell_type": "code",
   "execution_count": null,
   "id": "8e0fb7a4",
   "metadata": {},
   "outputs": [],
   "source": []
  },
  {
   "cell_type": "code",
   "execution_count": null,
   "id": "446470ee",
   "metadata": {},
   "outputs": [],
   "source": []
  }
 ],
 "metadata": {
  "kernelspec": {
   "display_name": "Python 3",
   "language": "python",
   "name": "python3"
  },
  "language_info": {
   "codemirror_mode": {
    "name": "ipython",
    "version": 3
   },
   "file_extension": ".py",
   "mimetype": "text/x-python",
   "name": "python",
   "nbconvert_exporter": "python",
   "pygments_lexer": "ipython3",
   "version": "3.8.8"
  }
 },
 "nbformat": 4,
 "nbformat_minor": 5
}
